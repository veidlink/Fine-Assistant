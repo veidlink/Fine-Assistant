{
 "cells": [
  {
   "cell_type": "code",
   "execution_count": 61,
   "metadata": {},
   "outputs": [],
   "source": [
    "# Для считывания PDF\n",
    "import PyPDF2\n",
    "# Для анализа структуры PDF и извлечения текста\n",
    "from pdfminer.high_level import extract_pages, extract_text\n",
    "from pdfminer.layout import LTTextContainer, LTChar, LTRect, LTFigure\n",
    "# Для извлечения текста из таблиц в PDF\n",
    "import pdfplumber\n",
    "# Для извлечения изображений из PDF\n",
    "from PIL import Image\n",
    "from pdf2image import convert_from_path\n",
    "# Для выполнения OCR, чтобы извлекать тексты из изображений \n",
    "import pytesseract \n",
    "# Для удаления дополнительно созданных файлов\n",
    "import os\n",
    "from tqdm import tqdm\n",
    "import json\n",
    "\n",
    "from nltk.tokenize import word_tokenize\n",
    "\n",
    "from embedding import E5LargeEmbeddingFunction\n",
    "\n",
    "import clickhouse_connect\n",
    "import pandas as pd\n",
    "import logging\n",
    "import csv\n",
    "import re"
   ]
  },
  {
   "cell_type": "markdown",
   "metadata": {},
   "source": [
    "***"
   ]
  },
  {
   "cell_type": "code",
   "execution_count": 2,
   "metadata": {},
   "outputs": [],
   "source": [
    "def text_extraction(element):\n",
    "    # Извлекаем текст из вложенного текстового элемента\n",
    "    line_text = element.get_text()\n",
    "    \n",
    "    # Находим форматы текста\n",
    "    # Инициализируем список со всеми форматами, встречающимися в строке текста\n",
    "    line_formats = []\n",
    "    for text_line in element:\n",
    "        if isinstance(text_line, LTTextContainer):\n",
    "            # Итеративно обходим каждый символ в строке текста\n",
    "            for character in text_line:\n",
    "                if isinstance(character, LTChar):\n",
    "                    # Добавляем к символу название шрифта\n",
    "                    line_formats.append(character.fontname)\n",
    "                    # Добавляем к символу размер шрифта\n",
    "                    line_formats.append(character.size)\n",
    "    # Находим уникальные размеры и названия шрифтов в строке\n",
    "    format_per_line = list(set(line_formats))\n",
    "    \n",
    "    # Возвращаем кортеж с текстом в каждой строке вместе с его форматом\n",
    "    return (line_text, format_per_line)\n",
    "\n",
    "# Создаём функцию для вырезания элементов изображений из PDF\n",
    "def crop_image(element, pageObj):\n",
    "    # Получаем координаты для вырезания изображения из PDF\n",
    "    [image_left, image_top, image_right, image_bottom] = [element.x0,element.y0,element.x1,element.y1] \n",
    "    # Обрезаем страницу по координатам (left, bottom, right, top)\n",
    "    pageObj.mediabox.lower_left = (image_left, image_bottom)\n",
    "    pageObj.mediabox.upper_right = (image_right, image_top)\n",
    "    # Сохраняем обрезанную страницу в новый PDF\n",
    "    cropped_pdf_writer = PyPDF2.PdfWriter()\n",
    "    cropped_pdf_writer.add_page(pageObj)\n",
    "    # Сохраняем обрезанный PDF в новый файл\n",
    "    with open('cropped_image.pdf', 'wb') as cropped_pdf_file:\n",
    "        cropped_pdf_writer.write(cropped_pdf_file)\n",
    "\n",
    "# Создаём функцию для преобразования PDF в изображения\n",
    "def convert_to_images(input_file,):\n",
    "    images = convert_from_path(input_file)\n",
    "    image = images[0]\n",
    "    output_file = \"PDF_image.png\"\n",
    "    image.save(output_file, \"PNG\")\n",
    "\n",
    "# Создаём функцию для считывания текста из изображений\n",
    "def image_to_text(image_path):\n",
    "    # Считываем изображение\n",
    "    img = Image.open(image_path)\n",
    "    # Извлекаем текст из изображения\n",
    "    text = pytesseract.image_to_string(img)\n",
    "    return text\n",
    "\n",
    "def extract_table(pdf_path, page_num, table_num):\n",
    "    # Открываем файл pdf\n",
    "    pdf = pdfplumber.open(pdf_path)\n",
    "    # Находим исследуемую страницу\n",
    "    table_page = pdf.pages[page_num]\n",
    "    # Извлекаем соответствующую таблицу\n",
    "    table = table_page.extract_tables()[table_num]\n",
    "    return table\n",
    "\n",
    "# Преобразуем таблицу в соответствующий формат\n",
    "def table_converter(table):\n",
    "    table_string = ''\n",
    "    # Итеративно обходим каждую строку в таблице\n",
    "    for row_num in range(len(table)):\n",
    "        row = table[row_num]\n",
    "        # Удаляем разрыв строки из текста с переносом\n",
    "        cleaned_row = [item.replace('\\n', ' ') if item is not None and '\\n' in item else 'None' if item is None else item for item in row]\n",
    "        # Преобразуем таблицу в строку\n",
    "        table_string+=('|'+'|'.join(cleaned_row)+'|'+'\\n')\n",
    "    # Удаляем последний разрыв строки\n",
    "    table_string = table_string[:-1]\n",
    "    return table_string"
   ]
  },
  {
   "cell_type": "code",
   "execution_count": 3,
   "metadata": {},
   "outputs": [
    {
     "name": "stderr",
     "output_type": "stream",
     "text": [
      "630it [14:18,  1.36s/it]\n"
     ]
    },
    {
     "ename": "IndexError",
     "evalue": "list index out of range",
     "output_type": "error",
     "traceback": [
      "\u001b[0;31m---------------------------------------------------------------------------\u001b[0m",
      "\u001b[0;31mIndexError\u001b[0m                                Traceback (most recent call last)",
      "Cell \u001b[0;32mIn[3], line 120\u001b[0m\n\u001b[1;32m    113\u001b[0m pdfFileObj\u001b[38;5;241m.\u001b[39mclose()\n\u001b[1;32m    115\u001b[0m \u001b[38;5;66;03m## Удаляем созданные дополнительные файлы\u001b[39;00m\n\u001b[1;32m    116\u001b[0m \u001b[38;5;66;03m# os.remove('cropped_image.pdf')\u001b[39;00m\n\u001b[1;32m    117\u001b[0m \u001b[38;5;66;03m# os.remove('PDF_image.png')\u001b[39;00m\n\u001b[1;32m    118\u001b[0m \n\u001b[1;32m    119\u001b[0m \u001b[38;5;66;03m# Удаляем содержимое страницы\u001b[39;00m\n\u001b[0;32m--> 120\u001b[0m result \u001b[38;5;241m=\u001b[39m \u001b[38;5;124m'\u001b[39m\u001b[38;5;124m'\u001b[39m\u001b[38;5;241m.\u001b[39mjoin(\u001b[43mtext_per_page\u001b[49m\u001b[43m[\u001b[49m\u001b[38;5;124;43m'\u001b[39;49m\u001b[38;5;124;43mPage_0\u001b[39;49m\u001b[38;5;124;43m'\u001b[39;49m\u001b[43m]\u001b[49m\u001b[43m[\u001b[49m\u001b[38;5;241;43m4\u001b[39;49m\u001b[43m]\u001b[49m)\n",
      "\u001b[0;31mIndexError\u001b[0m: list index out of range"
     ]
    }
   ],
   "source": [
    "# Находим путь к PDF\n",
    "pdf_path = 'data/KoAP.pdf'\n",
    "\n",
    "# создаём объект файла PDF\n",
    "pdfFileObj = open(pdf_path, 'rb')\n",
    "# создаём объект считывателя PDF\n",
    "pdfReaded = PyPDF2.PdfReader(pdfFileObj)\n",
    "\n",
    "# Создаём словарь для извлечения текста из каждого изображения\n",
    "text_per_page = {}\n",
    "# Извлекаем страницы из PDF\n",
    "for pagenum, page in tqdm(enumerate(extract_pages(pdf_path))):\n",
    "    \n",
    "    # Инициализируем переменные, необходимые для извлечения текста со страницы\n",
    "    pageObj = pdfReaded.pages[pagenum]\n",
    "    page_text = []\n",
    "    line_format = []\n",
    "    text_from_images = []\n",
    "    text_from_tables = []\n",
    "    page_content = []\n",
    "    # Инициализируем количество исследованных таблиц\n",
    "    table_num = 0\n",
    "    first_element= True\n",
    "    table_extraction_flag= False\n",
    "    # Открываем файл pdf\n",
    "    pdf = pdfplumber.open(pdf_path)\n",
    "    # Находим исследуемую страницу\n",
    "    page_tables = pdf.pages[pagenum]\n",
    "    # Находим количество таблиц на странице\n",
    "    tables = page_tables.find_tables()\n",
    "\n",
    "\n",
    "    # Находим все элементы\n",
    "    page_elements = [(element.y1, element) for element in page._objs]\n",
    "    # Сортируем все элементы по порядку нахождения на странице\n",
    "    page_elements.sort(key=lambda a: a[0], reverse=True)\n",
    "\n",
    "    # Находим элементы, составляющие страницу\n",
    "    for i,component in enumerate(page_elements):\n",
    "        # Извлекаем положение верхнего края элемента в PDF\n",
    "        pos= component[0]\n",
    "        # Извлекаем элемент структуры страницы\n",
    "        element = component[1]\n",
    "        \n",
    "        # Проверяем, является ли элемент текстовым\n",
    "        if isinstance(element, LTTextContainer):\n",
    "            # Проверяем, находится ли текст в таблице\n",
    "            if table_extraction_flag == False:\n",
    "                # Используем функцию извлечения текста и формата для каждого текстового элемента\n",
    "                (line_text, format_per_line) = text_extraction(element)\n",
    "                # Добавляем текст каждой строки к тексту страницы\n",
    "                page_text.append(line_text)\n",
    "                # Добавляем формат каждой строки, содержащей текст\n",
    "                line_format.append(format_per_line)\n",
    "                page_content.append(line_text)\n",
    "            else:\n",
    "                # Пропускаем текст, находящийся в таблице\n",
    "                pass\n",
    "\n",
    "        # Проверяем элементы на наличие изображений\n",
    "        if isinstance(element, LTFigure):\n",
    "            pass\n",
    "            # # Вырезаем изображение из PDF\n",
    "            # crop_image(element, pageObj)\n",
    "            # # Преобразуем обрезанный pdf в изображение\n",
    "            # convert_to_images('cropped_image.pdf')\n",
    "            # # Извлекаем текст из изображения\n",
    "            # image_text = image_to_text('PDF_image.png')\n",
    "            # text_from_images.append(image_text)\n",
    "            # page_content.append(image_text)\n",
    "            # # Добавляем условное обозначение в списки текста и формата\n",
    "            # page_text.append('image')\n",
    "            # line_format.append('image')\n",
    "\n",
    "        # Проверяем элементы на наличие таблиц\n",
    "        if isinstance(element, LTRect):\n",
    "            # Если первый прямоугольный элемент\n",
    "            if first_element == True and (table_num+1) <= len(tables):\n",
    "                # Находим ограничивающий прямоугольник таблицы\n",
    "                lower_side = page.bbox[3] - tables[table_num].bbox[3]\n",
    "                upper_side = element.y1 \n",
    "                # Извлекаем информацию из таблицы\n",
    "                table = extract_table(pdf_path, pagenum, table_num)\n",
    "                # Преобразуем информацию таблицы в формат структурированной строки\n",
    "                table_string = table_converter(table)\n",
    "                # Добавляем строку таблицы в список\n",
    "                text_from_tables.append(table_string)\n",
    "                page_content.append(table_string)\n",
    "                # Устанавливаем флаг True, чтобы избежать повторения содержимого\n",
    "                table_extraction_flag = True\n",
    "                # Преобразуем в другой элемент\n",
    "                first_element = False\n",
    "                # Добавляем условное обозначение в списки текста и формата\n",
    "                page_text.append('table')\n",
    "                line_format.append('table')\n",
    "\n",
    "            # Проверяем, извлекли ли мы уже таблицы из этой страницы\n",
    "            if element.y0 >= lower_side and element.y1 <= upper_side:\n",
    "                pass\n",
    "            elif not isinstance(page_elements[i+1][1], LTRect):\n",
    "                table_extraction_flag = False\n",
    "                first_element = True\n",
    "                table_num+=1\n",
    "\n",
    "\n",
    "    # Создаём ключ для словаря\n",
    "    dctkey = 'Page_'+str(pagenum)\n",
    "    # Добавляем список списков как значение ключа страницы\n",
    "    text_per_page[dctkey]= [page_text, text_from_tables]\n",
    "    # text_per_page[dctkey]= [page_text, line_format, text_from_images,text_from_tables, page_content]\n",
    "\n",
    "# Закрываем объект файла pdf\n",
    "pdfFileObj.close()\n",
    "\n",
    "## Удаляем созданные дополнительные файлы\n",
    "# os.remove('cropped_image.pdf')\n",
    "# os.remove('PDF_image.png')\n",
    "\n",
    "# Удаляем содержимое страницы\n",
    "result = ''.join(text_per_page['Page_0'][4])"
   ]
  },
  {
   "cell_type": "code",
   "execution_count": 44,
   "metadata": {},
   "outputs": [
    {
     "name": "stdout",
     "output_type": "stream",
     "text": [
      "Сохранено в data/new_koap_rf.json\n"
     ]
    }
   ],
   "source": [
    "new_text_per_page = {}\n",
    "for i, (key, value) in enumerate(text_per_page.items(), start=1):\n",
    "    new_text_per_page[i] = value\n",
    "\n",
    "new_json_path = 'data/new_koap_rf.json'\n",
    "\n",
    "with open(new_json_path, 'w') as new_json_file:\n",
    "    json.dump(new_text_per_page, new_json_file)\n",
    "\n",
    "print(\"Сохранено в\", new_json_path)"
   ]
  },
  {
   "cell_type": "code",
   "execution_count": 12,
   "metadata": {},
   "outputs": [],
   "source": [
    "new_json_path = 'data/new_koap_rf.json'\n",
    "with open(new_json_path, 'r') as json_file:\n",
    "    text_per_page = json.load(json_file)"
   ]
  },
  {
   "cell_type": "code",
   "execution_count": 33,
   "metadata": {},
   "outputs": [
    {
     "data": {
      "text/plain": [
       "[['1. Законодательство об административных правонарушениях состоит из настоящего Кодекса \\nи  принимаемых  в  соответствии  с  ним  законов  субъектов  Российской  Федерации  об \\nадминистративных правонарушениях. \\n',\n",
       "  '2. Настоящий Кодекс основывается на Конституции Российской Федерации, общепризнанных \\nпринципах и нормах международного права и международных договорах Российской Федерации. \\nЕсли  международным  договором  Российской  Федерации  установлены  иные  правила,  чем \\nпредусмотренные  законодательством  об  административных  правонарушениях,  то  применяются \\nправила международного договора. \\n',\n",
       "  ' \\n',\n",
       "  'Статья 1.2. Задачи законодательства об административных правонарушениях \\n',\n",
       "  ' \\n',\n",
       "  'Задачами  законодательства  об  административных  правонарушениях  являются  защита \\nличности,  охрана  прав  и  свобод  человека  и  гражданина,  охрана  здоровья  граждан,  санитарно-\\nэпидемиологического  благополучия  населения,  защита  общественной  нравственности,  охрана \\nокружающей \\nгосударственной  власти, \\nобщественного  порядка  и  общественной  безопасности,  собственности,  защита  законных \\nэкономических  интересов  физических  и  юридических  лиц,  общества  и  государства  от \\nадминистративных \\nадминистративных \\nправонарушений. \\n',\n",
       "  'среды,  установленного  порядка  осуществления \\n',\n",
       "  'правонарушений, \\n',\n",
       "  'предупреждение \\n',\n",
       "  'также \\n',\n",
       "  'а \\n',\n",
       "  ' \\n',\n",
       "  'Статья  1.3.  Предметы  ведения  Российской  Федерации  в  области  законодательства  об \\n',\n",
       "  'административных правонарушениях \\n',\n",
       "  ' \\n',\n",
       "  '1.  К  ведению  Российской  Федерации  в  области  законодательства  об  административных \\n',\n",
       "  'правонарушениях относится установление: \\n',\n",
       "  '1) общих положений и принципов законодательства об административных правонарушениях; \\n',\n",
       "  '2) перечня видов административных наказаний и правил их применения; \\n',\n",
       "  '3) административной ответственности по вопросам, имеющим федеральное значение, в том \\nчисле  административной  ответственности  за  нарушение  правил  и  норм,  предусмотренных \\nфедеральными законами и иными нормативными правовыми актами Российской Федерации; \\n',\n",
       "  '4)  порядка  производства  по  делам  об  административных  правонарушениях,  в  том  числе \\n',\n",
       "  'установление мер обеспечения производства по делам об административных правонарушениях; \\n',\n",
       "  '5) порядка исполнения постановлений о назначении административных наказаний. \\n',\n",
       "  '2.  В  соответствии  с  законодательством  о  судебной  системе  настоящий  Кодекс  определяет \\n',\n",
       "  'подсудность дел об административных правонарушениях судам. \\n',\n",
       "  '3. В соответствии с законодательством о защите прав несовершеннолетних настоящий Кодекс \\nопределяет подведомственность дел об административных правонарушениях комиссиям по делам \\nнесовершеннолетних и защите их прав. \\n',\n",
       "  '4. В соответствии с установленной структурой федеральных органов исполнительной власти \\nнастоящий Кодекс определяет подведомственность дел об административных правонарушениях, \\nпредусмотренных настоящим Кодексом, федеральным органам исполнительной власти. \\n',\n",
       "  '5. В соответствии с задачами и функциями, возложенными на органы государственной власти \\nсубъектов  Российской  Федерации  федеральными  законами,  настоящий  Кодекс  определяет \\nподведомственность  дел  об  административных  правонарушениях,  предусмотренных  настоящим \\nКодексом, органам исполнительной власти субъектов Российской Федерации. \\n(часть пятая введена Федеральным законом от 28.12.2009 N 380-ФЗ) \\n'],\n",
       " []]"
      ]
     },
     "execution_count": 33,
     "metadata": {},
     "output_type": "execute_result"
    }
   ],
   "source": [
    "text_per_page['6']"
   ]
  },
  {
   "cell_type": "code",
   "execution_count": 72,
   "metadata": {},
   "outputs": [],
   "source": [
    "def clean_and_join_data(pages):\n",
    "    cleaned_pages = []\n",
    "    for page in pages.values():\n",
    "        cleaned_content = ' '.join(item.replace('\\n', '') for sublist in page for item in sublist)\n",
    "        cleaned_pages.append(cleaned_content)\n",
    "    return cleaned_pages\n",
    "\n",
    "# Write the data to a CSV file\n",
    "with open('data/output.csv', 'w', newline='', encoding='utf-8') as csvfile:\n",
    "    writer = csv.writer(csvfile)\n",
    "    cleaned_data = clean_and_join_data(text_per_page)\n",
    "    writer.writerow([\"Page_Number\", \"Content\"])\n",
    "    for page_number, page_content in enumerate(cleaned_data, start=1):\n",
    "        writer.writerow([page_number, page_content])"
   ]
  },
  {
   "cell_type": "code",
   "execution_count": 75,
   "metadata": {},
   "outputs": [
    {
     "data": {
      "text/plain": [
       "'1. Законодательство об административных правонарушениях состоит из настоящего Кодекса и  принимаемых  в  соответствии  с  ним  законов  субъектов  Российской  Федерации  об административных правонарушениях.  2. Настоящий Кодекс основывается на Конституции Российской Федерации, общепризнанных принципах и нормах международного права и международных договорах Российской Федерации. Если  международным  договором  Российской  Федерации  установлены  иные  правила,  чем предусмотренные  законодательством  об  административных  правонарушениях,  то  применяются правила международного договора.    Статья 1.2. Задачи законодательства об административных правонарушениях    Задачами  законодательства  об  административных  правонарушениях  являются  защита личности,  охрана  прав  и  свобод  человека  и  гражданина,  охрана  здоровья  граждан,  санитарно-эпидемиологического  благополучия  населения,  защита  общественной  нравственности,  охрана окружающей государственной  власти, общественного  порядка  и  общественной  безопасности,  собственности,  защита  законных экономических  интересов  физических  и  юридических  лиц,  общества  и  государства  от административных административных правонарушений.  среды,  установленного  порядка  осуществления  правонарушений,  предупреждение  также  а    Статья  1.3.  Предметы  ведения  Российской  Федерации  в  области  законодательства  об  административных правонарушениях    1.  К  ведению  Российской  Федерации  в  области  законодательства  об  административных  правонарушениях относится установление:  1) общих положений и принципов законодательства об административных правонарушениях;  2) перечня видов административных наказаний и правил их применения;  3) административной ответственности по вопросам, имеющим федеральное значение, в том числе  административной  ответственности  за  нарушение  правил  и  норм,  предусмотренных федеральными законами и иными нормативными правовыми актами Российской Федерации;  4)  порядка  производства  по  делам  об  административных  правонарушениях,  в  том  числе  установление мер обеспечения производства по делам об административных правонарушениях;  5) порядка исполнения постановлений о назначении административных наказаний.  2.  В  соответствии  с  законодательством  о  судебной  системе  настоящий  Кодекс  определяет  подсудность дел об административных правонарушениях судам.  3. В соответствии с законодательством о защите прав несовершеннолетних настоящий Кодекс определяет подведомственность дел об административных правонарушениях комиссиям по делам несовершеннолетних и защите их прав.  4. В соответствии с установленной структурой федеральных органов исполнительной власти настоящий Кодекс определяет подведомственность дел об административных правонарушениях, предусмотренных настоящим Кодексом, федеральным органам исполнительной власти.  5. В соответствии с задачами и функциями, возложенными на органы государственной власти субъектов  Российской  Федерации  федеральными  законами,  настоящий  Кодекс  определяет подведомственность  дел  об  административных  правонарушениях,  предусмотренных  настоящим Кодексом, органам исполнительной власти субъектов Российской Федерации. (часть пятая введена Федеральным законом от 28.12.2009 N 380-ФЗ) '"
      ]
     },
     "execution_count": 75,
     "metadata": {},
     "output_type": "execute_result"
    }
   ],
   "source": [
    "data = pd.read_csv('data/output.csv')\n",
    "data.iloc[5]['Content']"
   ]
  },
  {
   "cell_type": "markdown",
   "metadata": {},
   "source": [
    "***"
   ]
  },
  {
   "cell_type": "code",
   "execution_count": 78,
   "metadata": {},
   "outputs": [],
   "source": [
    "client = clickhouse_connect.get_client(host='fre1otkh1b.europe-west4.gcp.clickhouse.cloud', port=8443, username='default', password='.SAxpSMBh27IT')"
   ]
  },
  {
   "cell_type": "code",
   "execution_count": 79,
   "metadata": {},
   "outputs": [],
   "source": [
    "def get_nltk_chunks(text, chunk_size=200, chunk_overlap=100, language=\"russian\"):\n",
    "    words = word_tokenize(text, language=language)\n",
    "\n",
    "    chunks = []\n",
    "\n",
    "    end_index = chunk_size\n",
    "    while end_index - chunk_size < len(words):\n",
    "        sentence = ''\n",
    "        tokens_counter = 0\n",
    "        for word in words[end_index - chunk_size:end_index]:\n",
    "            if word in ',.?!:)»' or (sentence and sentence[-1] in '«('):\n",
    "                sentence += word\n",
    "            else:\n",
    "                sentence += \" \" + word\n",
    "            tokens_counter += 1\n",
    "\n",
    "        if tokens_counter < chunk_size and chunks:\n",
    "            words = word_tokenize(chunks[-1] + sentence)[-chunk_size:]\n",
    "            sentence = ''\n",
    "            for word in words:\n",
    "                if word in ',.?!:)»' or (sentence and sentence[-1] in '«('):\n",
    "                    sentence += word\n",
    "                else:\n",
    "                    sentence += \" \" + word\n",
    "                    \n",
    "        chunks.append(sentence)\n",
    "        end_index += chunk_size - chunk_overlap\n",
    "\n",
    "    return chunks"
   ]
  },
  {
   "cell_type": "code",
   "execution_count": 80,
   "metadata": {},
   "outputs": [],
   "source": [
    "logging.basicConfig(level=logging.INFO, filename='db.log', filemode=\"a\",\n",
    "                       format=\"%(asctime)s %(levelname)s %(message)s\")\n",
    "\n",
    "emb_func = E5LargeEmbeddingFunction()\n",
    "\n",
    "emb_func.change_mode(new_mode='passage')"
   ]
  },
  {
   "cell_type": "code",
   "execution_count": 82,
   "metadata": {},
   "outputs": [
    {
     "name": "stderr",
     "output_type": "stream",
     "text": [
      "Processing rows...:   0%|          | 0/630 [00:00<?, ?it/s]"
     ]
    },
    {
     "ename": "",
     "evalue": "",
     "output_type": "error",
     "traceback": [
      "\u001b[1;31mThe Kernel crashed while executing code in the the current cell or a previous cell. Please review the code in the cell(s) to identify a possible cause of the failure. Click <a href='https://aka.ms/vscodeJupyterKernelCrash'>here</a> for more info. View Jupyter <a href='command:jupyter.viewOutput'>log</a> for further details."
     ]
    }
   ],
   "source": [
    "total_rows = len(data)\n",
    "with tqdm(total=total_rows, desc='Processing rows...') as pbar:\n",
    "    for index, row in data.iterrows():\n",
    "        try:\n",
    "            if index % 25 == 0:\n",
    "                logging.info(f'{index} done')\n",
    "            page = row.Page_Number\n",
    "            text = row.Content\n",
    "\n",
    "            chunks = get_nltk_chunks(text, chunk_size=400, chunk_overlap=100)\n",
    "\n",
    "            insert_data = []\n",
    "            for i, chunk in enumerate(chunks):\n",
    "                insert_data.append((index, i, page, *emb_func(chunk)))\n",
    "\n",
    "            client.insert('index_texts_final', insert_data, column_names=['page_num', 'page_text', 'embedding'])\n",
    "\n",
    "            pbar.update(1)  # Update tqdm progress bar\n",
    "        except Exception as e:\n",
    "            logging.error(index)"
   ]
  }
 ],
 "metadata": {
  "kernelspec": {
   "display_name": ".venv",
   "language": "python",
   "name": "python3"
  },
  "language_info": {
   "codemirror_mode": {
    "name": "ipython",
    "version": 3
   },
   "file_extension": ".py",
   "mimetype": "text/x-python",
   "name": "python",
   "nbconvert_exporter": "python",
   "pygments_lexer": "ipython3",
   "version": "3.10.12"
  }
 },
 "nbformat": 4,
 "nbformat_minor": 2
}
